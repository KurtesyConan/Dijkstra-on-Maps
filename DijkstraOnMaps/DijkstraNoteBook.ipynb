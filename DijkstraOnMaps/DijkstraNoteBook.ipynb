{
 "cells": [
  {
   "cell_type": "markdown",
   "metadata": {
    "id": "e9FAjjVhvnJR"
   },
   "source": [
    "#Import Libraries"
   ]
  },
  {
   "cell_type": "code",
   "execution_count": 1,
   "metadata": {
    "colab": {
     "base_uri": "https://localhost:8080/"
    },
    "id": "u0yN1BL7swDq",
    "outputId": "1fcd5113-22ee-4d95-8e51-d0d269d25efd"
   },
   "outputs": [
    {
     "name": "stdout",
     "output_type": "stream",
     "text": [
      "Collecting xmltodict\n",
      "  Downloading xmltodict-0.13.0-py2.py3-none-any.whl (10.0 kB)\n",
      "Installing collected packages: xmltodict\n",
      "Successfully installed xmltodict-0.13.0\n",
      "Collecting folium\n",
      "  Downloading folium-0.14.0-py2.py3-none-any.whl (102 kB)\n",
      "     -------------------------------------- 102.3/102.3 kB 1.2 MB/s eta 0:00:00\n",
      "Collecting branca>=0.6.0\n",
      "  Downloading branca-0.6.0-py3-none-any.whl (24 kB)\n",
      "Requirement already satisfied: jinja2>=2.9 in c:\\users\\prith\\anaconda3\\lib\\site-packages (from folium) (3.1.2)\n",
      "Requirement already satisfied: numpy in c:\\users\\prith\\anaconda3\\lib\\site-packages (from folium) (1.25.0)\n",
      "Requirement already satisfied: requests in c:\\users\\prith\\anaconda3\\lib\\site-packages (from folium) (2.29.0)\n",
      "Requirement already satisfied: MarkupSafe>=2.0 in c:\\users\\prith\\anaconda3\\lib\\site-packages (from jinja2>=2.9->folium) (2.1.1)\n",
      "Requirement already satisfied: idna<4,>=2.5 in c:\\users\\prith\\anaconda3\\lib\\site-packages (from requests->folium) (3.4)\n",
      "Requirement already satisfied: certifi>=2017.4.17 in c:\\users\\prith\\anaconda3\\lib\\site-packages (from requests->folium) (2023.5.7)\n",
      "Requirement already satisfied: urllib3<1.27,>=1.21.1 in c:\\users\\prith\\anaconda3\\lib\\site-packages (from requests->folium) (1.26.16)\n",
      "Requirement already satisfied: charset-normalizer<4,>=2 in c:\\users\\prith\\anaconda3\\lib\\site-packages (from requests->folium) (2.0.4)\n",
      "Installing collected packages: branca, folium\n",
      "Successfully installed branca-0.6.0 folium-0.14.0\n",
      "Requirement already satisfied: numpy in c:\\users\\prith\\anaconda3\\lib\\site-packages (1.25.0)\n"
     ]
    }
   ],
   "source": [
    "!pip install xmltodict\n",
    "!pip install folium\n",
    "!pip install numpy"
   ]
  },
  {
   "cell_type": "code",
   "execution_count": 3,
   "metadata": {
    "id": "5LsPwU4qs4V-"
   },
   "outputs": [],
   "source": [
    "import xmltodict as xtd\n",
    "import folium\n",
    "import numpy as np\n",
    "import time\n",
    "from IPython.display import display\n",
    "from IPython.display import clear_output "
   ]
  },
  {
   "cell_type": "markdown",
   "metadata": {
    "id": "Hqkrsnn9vwOB"
   },
   "source": [
    "# Import Map Data"
   ]
  },
  {
   "cell_type": "code",
   "execution_count": 4,
   "metadata": {
    "id": "03P6NyHos_5r"
   },
   "outputs": [],
   "source": [
    "with open('Maps/maphyderabad.osm', \"rb\") as osm_fn:\n",
    "  map_osm = xtd.parse(osm_fn)['osm']\n"
   ]
  },
  {
   "cell_type": "markdown",
   "metadata": {
    "id": "kKNiWY41v8tf"
   },
   "source": [
    "# Parse Map Data"
   ]
  },
  {
   "cell_type": "code",
   "execution_count": 5,
   "metadata": {
    "colab": {
     "base_uri": "https://localhost:8080/"
    },
    "id": "w0A4_Tt4tNG1",
    "outputId": "df9f1a7c-97e6-4d4a-b235-04e9ad33a44d"
   },
   "outputs": [
    {
     "data": {
      "text/plain": [
       "dict_keys(['@version', '@generator', '@copyright', '@attribution', '@license', 'bounds', 'node', 'way', 'relation'])"
      ]
     },
     "execution_count": 5,
     "metadata": {},
     "output_type": "execute_result"
    }
   ],
   "source": [
    "map_osm.keys()"
   ]
  },
  {
   "cell_type": "markdown",
   "metadata": {
    "id": "-Z-ula8gfPb_"
   },
   "source": [
    "Bounds Parsing"
   ]
  },
  {
   "cell_type": "code",
   "execution_count": 6,
   "metadata": {
    "id": "LqlsJDnkfTbs"
   },
   "outputs": [],
   "source": [
    "ymax = map_osm['bounds']['@maxlat']\n",
    "ymin = map_osm['bounds']['@minlat']\n",
    "xmax = map_osm['bounds']['@maxlon']\n",
    "xmin = map_osm['bounds']['@minlon']\n",
    "\n",
    "parsed_bounds = [xmin, xmax, ymin, ymax]"
   ]
  },
  {
   "cell_type": "markdown",
   "metadata": {
    "id": "t6N2IDrud82c"
   },
   "source": [
    "Nodes Parsing"
   ]
  },
  {
   "cell_type": "code",
   "execution_count": 7,
   "metadata": {
    "id": "79BTkDp3u9oq"
   },
   "outputs": [],
   "source": [
    "Node=map_osm['node']\n",
    "\n",
    "Nnodes=len(Node)\n",
    "\n",
    "Nodeid = [0]*Nnodes\n",
    "xy = []\n",
    "\n",
    "for i in range(Nnodes):\n",
    "  Nodeid[i]=float(Node[i]['@id'])\n",
    "  x=float(Node[i]['@lat'])\n",
    "  y=float(Node[i]['@lon'])\n",
    "  xy.append([x,y])\n",
    "\n",
    "parsed_node={'id':Nodeid, 'xy':xy}\n"
   ]
  },
  {
   "cell_type": "markdown",
   "metadata": {
    "id": "MlTT79-DeBAS"
   },
   "source": [
    "Parsing Way"
   ]
  },
  {
   "cell_type": "code",
   "execution_count": 8,
   "metadata": {
    "id": "GeHfri3zdS6v"
   },
   "outputs": [],
   "source": [
    "Way=map_osm['way']\n",
    "\n",
    "Nways=len(Way)\n",
    "\n",
    "Wayid=[0]*Nways\n",
    "nodes_in_way=[0]*Nways\n",
    "tags=[0]*Nways\n",
    "for i in range(Nways):\n",
    "  tempWay = Way[i]\n",
    "  \n",
    "  Wayid[i] = float(tempWay['@id'])\n",
    "\n",
    "  Nnd=len(tempWay['nd'])\n",
    "  ndTemp=[0]*Nnd\n",
    "  \n",
    "  for j in range(Nnd):\n",
    "    ndTemp[j]=float(tempWay['nd'][j]['@ref'])\n",
    "  \n",
    "  nodes_in_way[i] = ndTemp\n",
    "\n",
    "  if 'tag' in tempWay.keys():\n",
    "    if type(tempWay['tag']) is list:\n",
    "      tags[i]=tempWay['tag']\n",
    "    else:\n",
    "      tags[i]=[tempWay['tag']]\n",
    "  else:\n",
    "    tags[i]=[]\n",
    "\n",
    "parsed_way={'id':Wayid,'nodes':nodes_in_way, 'tags':tags}"
   ]
  },
  {
   "cell_type": "markdown",
   "metadata": {
    "id": "WtClfRP3b1WD"
   },
   "source": [
    "Parsing Relations"
   ]
  },
  {
   "cell_type": "code",
   "execution_count": 9,
   "metadata": {
    "id": "9oZQ8Vn-aeKN"
   },
   "outputs": [],
   "source": [
    "Relation=map_osm['relation']\n",
    "\n",
    "Nrelation=len(Relation)\n",
    "\n",
    "Relationid=[0]*Nrelation\n",
    "\n",
    "for i in range(Nrelation):\n",
    "  currentRelation = Relation[i]\n",
    "  currentId=currentRelation['@id']\n",
    "  Relationid[i]=float(currentId)\n",
    "\n",
    "parsed_relation={'id':Relationid}"
   ]
  },
  {
   "cell_type": "markdown",
   "metadata": {
    "id": "OnMRVGKYeN_t"
   },
   "source": [
    "Parsing OSM"
   ]
  },
  {
   "cell_type": "code",
   "execution_count": 10,
   "metadata": {
    "id": "IWYVOalGeEo9"
   },
   "outputs": [],
   "source": [
    "parsed_osm={\n",
    "    'bounds':parsed_bounds,\n",
    "    'way':parsed_way,\n",
    "    'node':parsed_node,\n",
    "    'relation':parsed_relation,\n",
    "    'attributes':map_osm.keys()\n",
    "}"
   ]
  },
  {
   "cell_type": "markdown",
   "metadata": {
    "id": "lTdKDN6ifzXJ"
   },
   "source": [
    "# Build Connectivity Matrix"
   ]
  },
  {
   "cell_type": "code",
   "execution_count": 11,
   "metadata": {
    "id": "Mes4kFeGfkTU"
   },
   "outputs": [],
   "source": [
    "bounds=parsed_osm['bounds']\n",
    "way=parsed_osm['way']\n",
    "node=parsed_osm['node']\n",
    "relation=parsed_osm['relation']"
   ]
  },
  {
   "cell_type": "code",
   "execution_count": 12,
   "metadata": {
    "id": "ZG6UFN_Fq9A8"
   },
   "outputs": [],
   "source": [
    "ways_num = len(way['id'])\n",
    "ways_node_set=way['nodes']\n",
    "node_ids = dict()\n",
    "n = len(node['id'])\n",
    "for i in range(n):\n",
    "  node_ids[node['id'][i]] = i\n",
    "\n",
    "road_vals = ['highway', 'motorway', 'motorway_link', 'trunk', 'trunk_link',\n",
    "             'primary', 'primary_link', 'secondary', 'secondary_link',\n",
    "             'tertiary', 'road', 'residential', 'living_street',\n",
    "             'service', 'services', 'motorway_junction']"
   ]
  },
  {
   "cell_type": "code",
   "execution_count": 13,
   "metadata": {
    "id": "UOhcFn24G3bg"
   },
   "outputs": [],
   "source": [
    "def create_connectivity():\n",
    "  connectivity_matrix = np.full((Nnodes,Nnodes), float('inf'))\n",
    "  np.fill_diagonal(connectivity_matrix, 0)\n",
    "\n",
    "  for currentWay in range(ways_num):\n",
    "    skip = True\n",
    "    for i in way['tags'][currentWay]:\n",
    "      if i['@k'] in road_vals:\n",
    "        skip = False\n",
    "        break\n",
    "    \n",
    "    if skip:\n",
    "      continue\n",
    "\n",
    "    nodeset=ways_node_set[currentWay]\n",
    "    nodes_num=len(nodeset)\n",
    "\n",
    "    currentWayID = way['id'][currentWay]\n",
    "\n",
    "    for firstnode_local_index in range(nodes_num):\n",
    "      firstnode_id = nodeset[firstnode_local_index]\n",
    "      firstnode_index = node_ids.get(firstnode_id, -1)\n",
    "      if firstnode_index==-1: continue \n",
    "\n",
    "      for othernode_local_index in range(firstnode_local_index+1, nodes_num):\n",
    "        othernode_id=nodeset[othernode_local_index]\n",
    "        othernode_index = node_ids.get(othernode_id, -1)\n",
    "        if othernode_index==-1: continue \n",
    "\n",
    "        if(firstnode_id != othernode_id and connectivity_matrix[firstnode_index,othernode_index]==float('inf')):\n",
    "          connectivity_matrix[firstnode_index, othernode_index] = 1\n",
    "          connectivity_matrix[othernode_index, firstnode_index] = 1\n",
    "\n",
    "  return connectivity_matrix"
   ]
  },
  {
   "cell_type": "markdown",
   "metadata": {
    "id": "KEPTYEw8YvB4"
   },
   "source": [
    "# Apply Pathfinding Algorithm"
   ]
  },
  {
   "cell_type": "code",
   "execution_count": 14,
   "metadata": {
    "id": "Q5OFk-hahMQp"
   },
   "outputs": [],
   "source": [
    "def dijkstra(source, connectivity_matrix, p):\n",
    "  s = dict()\n",
    "  s[source] = True\n",
    "  p[source] = source\n",
    "\n",
    "  v = len(connectivity_matrix)\n",
    "  u = source\n",
    "  d_u = float('inf')\n",
    "  for i in range(v):\n",
    "    if i != source and connectivity_matrix[source][i] < d_u:\n",
    "      u = i\n",
    "      d_u = connectivity_matrix[source][i]\n",
    "  s[u] = True\n",
    "  p[u] = source\n",
    "\n",
    "  i = v-2\n",
    "  while i > 0:\n",
    "    u_x = source\n",
    "    d_u = float('inf')\n",
    "\n",
    "    for j in range(v):\n",
    "      if s.get(j, False) == False and connectivity_matrix[source][u] != float('inf') and connectivity_matrix[u][j] != float('inf'):\n",
    "        k = connectivity_matrix[source][u] + connectivity_matrix[u][j]\n",
    "        connectivity_matrix[source][j] = min(connectivity_matrix[source][j], k)\n",
    "        connectivity_matrix[j][source] = connectivity_matrix[source][j]\n",
    "\n",
    "        if connectivity_matrix[source][j] == k:\n",
    "          p[j] = u\n",
    "        elif connectivity_matrix[source][j] == 1:\n",
    "          p[j] = source\n",
    "\n",
    "        if connectivity_matrix[source][j] < d_u:\n",
    "          u_x = j\n",
    "          d_u = connectivity_matrix[source][j]\n",
    "\n",
    "    if u_x == source:\n",
    "      break\n",
    "\n",
    "    s[u_x] = True\n",
    "    u = u_x\n",
    "    i -= 1"
   ]
  },
  {
   "cell_type": "markdown",
   "metadata": {
    "id": "4mG7IGQ_Y7OQ"
   },
   "source": [
    "# Plot Routes"
   ]
  },
  {
   "cell_type": "code",
   "execution_count": 15,
   "metadata": {
    "id": "wnE-1ol-14NO"
   },
   "outputs": [],
   "source": [
    "def plot_routes(s, connectivity_matrix):\n",
    "  p = dict()\n",
    "  dijkstra(s, connectivity_matrix, p)\n",
    "\n",
    "  nodes_routes_values=[]\n",
    "  for i in p.keys():\n",
    "    adder=[i,0]\n",
    "    while p[i] != i:\n",
    "      adder[1]+=1\n",
    "      i = p[i]\n",
    "    nodes_routes_values.append(adder)\n",
    "\n",
    "  return nodes_routes_values,p"
   ]
  },
  {
   "cell_type": "markdown",
   "metadata": {
    "id": "2OG-RWGTZMj7"
   },
   "source": [
    "# Build Map"
   ]
  },
  {
   "cell_type": "code",
   "execution_count": 16,
   "metadata": {
    "id": "gsFaTkQMZOvG"
   },
   "outputs": [],
   "source": [
    "def build_map(i,p):\n",
    "  node_cds = [(node['xy'][i][0], node['xy'][i][1])]\n",
    "  while p[i] != i:\n",
    "    node_cds.append((node['xy'][p[i]][0], node['xy'][p[i]][1]))\n",
    "    i = p[i]\n",
    "\n",
    "  map = folium.Map(location = node_cds[-1], zoom_start = 15)\n",
    "\n",
    "  folium.CircleMarker(node_cds[-1], radius=5, color=\"blue\", fill=True, fill_color=\"orange\").add_to(map)\n",
    "  folium.Marker(node_cds[0], icon = folium.Icon(color=\"blue\", icon=\"circle\", prefix='fa')).add_to(map)\n",
    "    \n",
    "  folium.PolyLine(locations = node_cds, weight=5, color=\"blue\", opacity=\"0.75\", dash_array=10).add_to(map)\n",
    "    \n",
    "  return map"
   ]
  },
  {
   "cell_type": "markdown",
   "metadata": {
    "id": "R4qWs5EG2Imm"
   },
   "source": [
    "# Display Map\n"
   ]
  },
  {
   "cell_type": "code",
   "execution_count": 17,
   "metadata": {
    "id": "-d7tHVlNrNuH"
   },
   "outputs": [],
   "source": [
    "connectivity_matrix = create_connectivity()\n",
    "nodes_routes_values,p = plot_routes(125, connectivity_matrix)"
   ]
  },
  {
   "cell_type": "code",
   "execution_count": 18,
   "metadata": {
    "colab": {
     "base_uri": "https://localhost:8080/"
    },
    "id": "TXH1d36OkxXF",
    "outputId": "9f07e7a5-62e2-4d6d-f8d1-da6ad06c4d8c"
   },
   "outputs": [
    {
     "name": "stdout",
     "output_type": "stream",
     "text": [
      "[[125, 0], [118, 1], [119, 1], [120, 1], [121, 1], [122, 1], [123, 1], [124, 1], [126, 1], [888, 1], [891, 1], [902, 1], [907, 1], [916, 1], [917, 1], [918, 1], [920, 1], [922, 1], [923, 1], [935, 1], [1174, 1], [1175, 1], [1448, 1], [1919, 1], [2191, 1], [2223, 1], [2248, 1], [11473, 1], [31605, 1], [31618, 1], [31619, 1], [31676, 1], [31677, 1], [32459, 1], [32496, 1], [929, 2], [934, 2], [951, 2], [960, 2], [1009, 2], [2284, 2], [217, 2], [218, 2], [219, 2], [220, 2], [221, 2], [841, 2], [843, 2], [844, 2], [845, 2], [851, 2], [1007, 2], [2105, 2], [2114, 2], [30172, 2], [32110, 2], [32125, 2], [32126, 2], [871, 2], [885, 2], [886, 2], [887, 2], [853, 2], [857, 2], [860, 2], [872, 2], [878, 2], [893, 2], [2210, 2], [881, 2], [901, 2], [913, 2], [807, 2], [818, 2], [824, 2], [874, 2], [890, 2], [1008, 2], [1426, 2], [1764, 2], [1766, 2], [1769, 2], [1778, 2], [850, 2], [862, 2], [866, 2], [873, 2], [876, 2], [896, 2], [899, 2], [908, 2], [1755, 2], [1758, 2], [1759, 2], [1763, 2], [2176, 2], [12557, 2], [12722, 2], [30170, 2], [31587, 2], [949, 2], [967, 2], [984, 2], [1188, 2], [2314, 2], [2321, 2], [2331, 2], [2336, 2], [11733, 2], [11738, 2], [30764, 2], [32112, 2], [947, 2], [799, 2], [848, 2], [855, 2], [880, 2], [2128, 2], [2170, 2], [2220, 2], [11756, 2], [939, 2], [946, 2], [948, 2], [954, 2], [959, 2], [962, 2], [1176, 2], [1177, 2], [1178, 2], [1171, 2], [1172, 2], [2190, 2], [11419, 2], [11755, 2], [915, 2], [919, 2], [921, 2], [930, 2], [932, 2], [936, 2], [2247, 2], [2250, 2], [31859, 2], [114, 2], [115, 2], [116, 2], [117, 2], [645, 2], [955, 2], [957, 2], [961, 2], [981, 2], [1182, 2], [2346, 2], [30138, 2], [31573, 2], [31607, 2], [31608, 2], [31609, 2], [31610, 2], [31611, 2], [31612, 2], [31613, 2], [31614, 2], [31615, 2], [31616, 2], [31617, 2], [31620, 2], [31621, 2], [31711, 2], [32202, 2], [32203, 2], [32460, 2], [67, 2], [830, 2], [940, 2], [975, 2], [986, 2], [1183, 2], [2311, 2], [2332, 2], [2340, 2], [2342, 2], [30197, 2], [31678, 2], [31679, 2], [31680, 2], [905, 2], [938, 2], [944, 2], [968, 2], [1184, 2], [2322, 2], [11732, 2], [11739, 2], [31606, 2], [889, 3], [894, 3], [897, 3], [900, 3], [903, 3], [909, 3], [912, 3], [1034, 3], [1036, 3], [1037, 3], [1038, 3], [1089, 3], [1110, 3], [1115, 3], [1173, 3], [10641, 3], [31704, 3], [31717, 3], [1107, 3], [2222, 3], [2264, 3], [2225, 3], [31860, 3], [2224, 4], [789, 3], [842, 3], [846, 3], [849, 3], [852, 3], [854, 3], [858, 3], [859, 3], [863, 3], [869, 3], [877, 3], [1423, 3], [1435, 3], [1436, 3], [1437, 3], [1781, 3], [1789, 3], [1794, 3], [1896, 3], [2227, 3], [2232, 3], [13496, 3], [30175, 3], [31583, 3], [800, 3], [808, 3], [847, 3], [1021, 3], [1752, 3], [1753, 3], [1754, 3], [2126, 3], [2140, 3], [31599, 3], [2008, 3], [31600, 3], [31601, 3], [32132, 3], [2116, 3]]\n"
     ]
    }
   ],
   "source": [
    "print(nodes_routes_values)"
   ]
  },
  {
   "cell_type": "code",
   "execution_count": 34,
   "metadata": {
    "id": "WzW1KA67m7x0",
    "scrolled": true
   },
   "outputs": [
    {
     "data": {
      "text/html": [
       "<div style=\"width:100%;\"><div style=\"position:relative;width:100%;height:0;padding-bottom:60%;\"><span style=\"color:#565656\">Make this Notebook Trusted to load map: File -> Trust Notebook</span><iframe srcdoc=\"&lt;!DOCTYPE html&gt;\n",
       "&lt;html&gt;\n",
       "&lt;head&gt;\n",
       "    \n",
       "    &lt;meta http-equiv=&quot;content-type&quot; content=&quot;text/html; charset=UTF-8&quot; /&gt;\n",
       "    \n",
       "        &lt;script&gt;\n",
       "            L_NO_TOUCH = false;\n",
       "            L_DISABLE_3D = false;\n",
       "        &lt;/script&gt;\n",
       "    \n",
       "    &lt;style&gt;html, body {width: 100%;height: 100%;margin: 0;padding: 0;}&lt;/style&gt;\n",
       "    &lt;style&gt;#map {position:absolute;top:0;bottom:0;right:0;left:0;}&lt;/style&gt;\n",
       "    &lt;script src=&quot;https://cdn.jsdelivr.net/npm/leaflet@1.9.3/dist/leaflet.js&quot;&gt;&lt;/script&gt;\n",
       "    &lt;script src=&quot;https://code.jquery.com/jquery-1.12.4.min.js&quot;&gt;&lt;/script&gt;\n",
       "    &lt;script src=&quot;https://cdn.jsdelivr.net/npm/bootstrap@5.2.2/dist/js/bootstrap.bundle.min.js&quot;&gt;&lt;/script&gt;\n",
       "    &lt;script src=&quot;https://cdnjs.cloudflare.com/ajax/libs/Leaflet.awesome-markers/2.0.2/leaflet.awesome-markers.js&quot;&gt;&lt;/script&gt;\n",
       "    &lt;link rel=&quot;stylesheet&quot; href=&quot;https://cdn.jsdelivr.net/npm/leaflet@1.9.3/dist/leaflet.css&quot;/&gt;\n",
       "    &lt;link rel=&quot;stylesheet&quot; href=&quot;https://cdn.jsdelivr.net/npm/bootstrap@5.2.2/dist/css/bootstrap.min.css&quot;/&gt;\n",
       "    &lt;link rel=&quot;stylesheet&quot; href=&quot;https://netdna.bootstrapcdn.com/bootstrap/3.0.0/css/bootstrap.min.css&quot;/&gt;\n",
       "    &lt;link rel=&quot;stylesheet&quot; href=&quot;https://cdn.jsdelivr.net/npm/@fortawesome/fontawesome-free@6.2.0/css/all.min.css&quot;/&gt;\n",
       "    &lt;link rel=&quot;stylesheet&quot; href=&quot;https://cdnjs.cloudflare.com/ajax/libs/Leaflet.awesome-markers/2.0.2/leaflet.awesome-markers.css&quot;/&gt;\n",
       "    &lt;link rel=&quot;stylesheet&quot; href=&quot;https://cdn.jsdelivr.net/gh/python-visualization/folium/folium/templates/leaflet.awesome.rotate.min.css&quot;/&gt;\n",
       "    \n",
       "            &lt;meta name=&quot;viewport&quot; content=&quot;width=device-width,\n",
       "                initial-scale=1.0, maximum-scale=1.0, user-scalable=no&quot; /&gt;\n",
       "            &lt;style&gt;\n",
       "                #map_91a9ca4b2426f6d56560b9cdc008ead9 {\n",
       "                    position: relative;\n",
       "                    width: 100.0%;\n",
       "                    height: 100.0%;\n",
       "                    left: 0.0%;\n",
       "                    top: 0.0%;\n",
       "                }\n",
       "                .leaflet-container { font-size: 1rem; }\n",
       "            &lt;/style&gt;\n",
       "        \n",
       "&lt;/head&gt;\n",
       "&lt;body&gt;\n",
       "    \n",
       "    \n",
       "            &lt;div class=&quot;folium-map&quot; id=&quot;map_91a9ca4b2426f6d56560b9cdc008ead9&quot; &gt;&lt;/div&gt;\n",
       "        \n",
       "&lt;/body&gt;\n",
       "&lt;script&gt;\n",
       "    \n",
       "    \n",
       "            var map_91a9ca4b2426f6d56560b9cdc008ead9 = L.map(\n",
       "                &quot;map_91a9ca4b2426f6d56560b9cdc008ead9&quot;,\n",
       "                {\n",
       "                    center: [17.4281059, 78.5168603],\n",
       "                    crs: L.CRS.EPSG3857,\n",
       "                    zoom: 15,\n",
       "                    zoomControl: true,\n",
       "                    preferCanvas: false,\n",
       "                }\n",
       "            );\n",
       "\n",
       "            \n",
       "\n",
       "        \n",
       "    \n",
       "            var tile_layer_66d08751985a7278cc6ea5edd1d68849 = L.tileLayer(\n",
       "                &quot;https://{s}.tile.openstreetmap.org/{z}/{x}/{y}.png&quot;,\n",
       "                {&quot;attribution&quot;: &quot;Data by \\u0026copy; \\u003ca target=\\&quot;_blank\\&quot; href=\\&quot;http://openstreetmap.org\\&quot;\\u003eOpenStreetMap\\u003c/a\\u003e, under \\u003ca target=\\&quot;_blank\\&quot; href=\\&quot;http://www.openstreetmap.org/copyright\\&quot;\\u003eODbL\\u003c/a\\u003e.&quot;, &quot;detectRetina&quot;: false, &quot;maxNativeZoom&quot;: 18, &quot;maxZoom&quot;: 18, &quot;minZoom&quot;: 0, &quot;noWrap&quot;: false, &quot;opacity&quot;: 1, &quot;subdomains&quot;: &quot;abc&quot;, &quot;tms&quot;: false}\n",
       "            ).addTo(map_91a9ca4b2426f6d56560b9cdc008ead9);\n",
       "        \n",
       "    \n",
       "            var circle_marker_22af92096a070753f9dccb664cddc7b6 = L.circleMarker(\n",
       "                [17.4281059, 78.5168603],\n",
       "                {&quot;bubblingMouseEvents&quot;: true, &quot;color&quot;: &quot;blue&quot;, &quot;dashArray&quot;: null, &quot;dashOffset&quot;: null, &quot;fill&quot;: true, &quot;fillColor&quot;: &quot;orange&quot;, &quot;fillOpacity&quot;: 0.2, &quot;fillRule&quot;: &quot;evenodd&quot;, &quot;lineCap&quot;: &quot;round&quot;, &quot;lineJoin&quot;: &quot;round&quot;, &quot;opacity&quot;: 1.0, &quot;radius&quot;: 5, &quot;stroke&quot;: true, &quot;weight&quot;: 3}\n",
       "            ).addTo(map_91a9ca4b2426f6d56560b9cdc008ead9);\n",
       "        \n",
       "    \n",
       "            var marker_7a0ae2349c16f5931c8d58027c2f7336 = L.marker(\n",
       "                [17.432403, 78.507193],\n",
       "                {}\n",
       "            ).addTo(map_91a9ca4b2426f6d56560b9cdc008ead9);\n",
       "        \n",
       "    \n",
       "            var icon_2e9e3ed9072b89c9a7d7c8a61d9208df = L.AwesomeMarkers.icon(\n",
       "                {&quot;extraClasses&quot;: &quot;fa-rotate-0&quot;, &quot;icon&quot;: &quot;circle&quot;, &quot;iconColor&quot;: &quot;white&quot;, &quot;markerColor&quot;: &quot;blue&quot;, &quot;prefix&quot;: &quot;fa&quot;}\n",
       "            );\n",
       "            marker_7a0ae2349c16f5931c8d58027c2f7336.setIcon(icon_2e9e3ed9072b89c9a7d7c8a61d9208df);\n",
       "        \n",
       "    \n",
       "            var poly_line_f9f23fb30e51a5bcf378cc802a4f721d = L.polyline(\n",
       "                [[17.432403, 78.507193], [17.4306492, 78.5106883], [17.4281059, 78.5168603]],\n",
       "                {&quot;bubblingMouseEvents&quot;: true, &quot;color&quot;: &quot;blue&quot;, &quot;dashArray&quot;: 10, &quot;dashOffset&quot;: null, &quot;fill&quot;: false, &quot;fillColor&quot;: &quot;blue&quot;, &quot;fillOpacity&quot;: 0.2, &quot;fillRule&quot;: &quot;evenodd&quot;, &quot;lineCap&quot;: &quot;round&quot;, &quot;lineJoin&quot;: &quot;round&quot;, &quot;noClip&quot;: false, &quot;opacity&quot;: &quot;0.75&quot;, &quot;smoothFactor&quot;: 1.0, &quot;stroke&quot;: true, &quot;weight&quot;: 5}\n",
       "            ).addTo(map_91a9ca4b2426f6d56560b9cdc008ead9);\n",
       "        \n",
       "&lt;/script&gt;\n",
       "&lt;/html&gt;\" style=\"position:absolute;width:100%;height:100%;left:0;top:0;border:none !important;\" allowfullscreen webkitallowfullscreen mozallowfullscreen></iframe></div></div>"
      ],
      "text/plain": [
       "<folium.folium.Map at 0x205474574f0>"
      ]
     },
     "metadata": {},
     "output_type": "display_data"
    },
    {
     "data": {
      "text/plain": [
       "'for i,j in nodes_routes_values:\\n  if j > 2:\\n    map = build_map(i)\\n    display(map)\\n    time.sleep(2)\\n    clear_output()'"
      ]
     },
     "execution_count": 34,
     "metadata": {},
     "output_type": "execute_result"
    }
   ],
   "source": [
    "map = build_map(115,p)\n",
    "display(map)\n",
    "\n",
    "'''for i,j in nodes_routes_values:\n",
    "  if j > 2:\n",
    "    map = build_map(i)\n",
    "    display(map)\n",
    "    time.sleep(2)\n",
    "    clear_output()'''"
   ]
  },
  {
   "cell_type": "code",
   "execution_count": null,
   "metadata": {
    "id": "PCZLrBCNnKFU"
   },
   "outputs": [],
   "source": []
  },
  {
   "cell_type": "code",
   "execution_count": null,
   "metadata": {},
   "outputs": [],
   "source": []
  }
 ],
 "metadata": {
  "colab": {
   "collapsed_sections": [
    "e9FAjjVhvnJR",
    "Hqkrsnn9vwOB",
    "kKNiWY41v8tf",
    "lTdKDN6ifzXJ",
    "KEPTYEw8YvB4",
    "4mG7IGQ_Y7OQ",
    "2OG-RWGTZMj7",
    "R4qWs5EG2Imm"
   ],
   "name": "ADAProjectNotebookV6MaybeFinal.ipynb",
   "provenance": []
  },
  "kernelspec": {
   "display_name": "Python 3 (ipykernel)",
   "language": "python",
   "name": "python3"
  },
  "language_info": {
   "codemirror_mode": {
    "name": "ipython",
    "version": 3
   },
   "file_extension": ".py",
   "mimetype": "text/x-python",
   "name": "python",
   "nbconvert_exporter": "python",
   "pygments_lexer": "ipython3",
   "version": "3.10.9"
  }
 },
 "nbformat": 4,
 "nbformat_minor": 1
}
